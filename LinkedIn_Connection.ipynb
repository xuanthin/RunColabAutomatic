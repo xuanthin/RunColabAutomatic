{
  "nbformat": 4,
  "nbformat_minor": 0,
  "metadata": {
    "colab": {
      "provenance": [],
      "include_colab_link": true
    },
    "kernelspec": {
      "name": "python3",
      "display_name": "Python 3"
    },
    "language_info": {
      "name": "python"
    }
  },
  "cells": [
    {
      "cell_type": "markdown",
      "metadata": {
        "id": "view-in-github",
        "colab_type": "text"
      },
      "source": [
        "<a href=\"https://colab.research.google.com/github/xuanthin/RunColabAutomatic/blob/main/LinkedIn_Connection.ipynb\" target=\"_parent\"><img src=\"https://colab.research.google.com/assets/colab-badge.svg\" alt=\"Open In Colab\"/></a>"
      ]
    },
    {
      "cell_type": "code",
      "execution_count": null,
      "metadata": {
        "id": "56wsWaHGh9lb"
      },
      "outputs": [],
      "source": [
        "def connect_linkedin(browser, url, email, subject, message, file, min_delay):\n",
        "    browser.get(url)\n",
        "    time.sleep(random.uniform(min_delay, min_delay + 3))\n",
        "\n",
        "    #Customize message\n",
        "    try:\n",
        "        panel_left = browser.find_element_by_xpath('//div[contains(@class, \"pv-text-details__left-panel\")]').text\n",
        "        name = panel_left.split('\\n')[0]\n",
        "        for i in [' (He/Him)', ' (She/Her)']:\n",
        "            name = name.replace(i, '')\n",
        "\n",
        "    except:\n",
        "        name = ''\n",
        "        pass\n",
        "\n",
        "    subject = subject.replace('@subject', name)\n",
        "    message = message.replace('@name', name)\n",
        "\n",
        "    #Connect stay in More\n",
        "    element_list = browser.find_elements_by_xpath('//button[contains(@aria-label, \"More actions\")]')\n",
        "    for elementID in element_list:\n",
        "        try:\n",
        "            elementID.click()\n",
        "            break\n",
        "        except:\n",
        "            pass\n",
        "\n",
        "    #Clicks Connect button\n",
        "    element_list = browser.find_elements_by_xpath('//*[text()=\"Connect\"]')\n",
        "    for elementID in element_list:\n",
        "        try:\n",
        "            elementID.click()\n",
        "            break\n",
        "        except:\n",
        "            pass\n",
        "\n",
        "    try:\n",
        "        browser.find_element_by_xpath('//button[contains(@aria-label, \"Connect\")]').click()\n",
        "    except:\n",
        "        pass\n",
        "\n",
        "    time.sleep(2)\n",
        "\n",
        "    try:\n",
        "        browser.find_element_by_xpath('//button[contains(@aria-label, \"Add a note\")]').click()\n",
        "    except:\n",
        "        pass\n",
        "\n",
        "    actions = ActionChains(browser)\n",
        "    for part in message.split('\\n'):\n",
        "        actions.send_keys(part)\n",
        "        actions.key_down(Keys.SHIFT).send_keys(Keys.ENTER).key_up(Keys.SHIFT)\n",
        "        time.sleep(2)\n",
        "\n",
        "    actions.perform()\n",
        "    time.sleep(2)\n",
        "\n",
        "    # Add email to send\n",
        "    try:\n",
        "        browser.find_element_by_name('email').send_keys(email)\n",
        "    except:\n",
        "        pass\n",
        "\n",
        "    send_button = browser.find_element_by_class_name('ml1')\n",
        "\n",
        "    clickable = False\n",
        "    time_wait = time.time()\n",
        "    while not clickable and time.time() < time_wait + implicit_time_default:\n",
        "        try:\n",
        "            cursor = send_button.value_of_css_property('cursor')\n",
        "            if cursor != 'not-allowed':\n",
        "                clickable = True\n",
        "            break\n",
        "        except:\n",
        "            continue\n",
        "\n",
        "    if clickable:\n",
        "        send_button.click()\n",
        "\n",
        "    time.sleep(2)\n",
        "    ActionChains(browser).send_keys(Keys.ESCAPE).perform()\n",
        "\n",
        "    return name\n",
        "\n",
        "\n",
        "def connect_linkedin_via_email(browser, email_list, min_delay):\n",
        "    browser.get('https://www.linkedin.com/mynetwork/import-contacts/iwe/')\n",
        "    time.sleep(random.uniform(min_delay, min_delay + 3))\n",
        "    browser.find_element_by_xpath('//textarea[contains(@name, \"message\")]').click()\n",
        "\n",
        "    actions = ActionChains(browser)\n",
        "    actions.send_keys(email_list)\n",
        "    actions.perform()\n",
        "    time.sleep(2)\n",
        "\n",
        "    browser.find_element_by_xpath('//button[contains(@id, \"send-iwe\")]').click()\n",
        "\n",
        "\n",
        "def check_connection(browser, username, password, target_profile_url):\n",
        "    api = Linkedin(username, password)\n",
        "    target_profile = api.get_profile(target_profile_url)\n",
        "    connections = api.get_connections(username)\n",
        "\n",
        "    if target_profile.id in [c['id'] for c in connections]:\n",
        "        return True\n",
        "    else:\n",
        "        return False"
      ]
    },
    {
      "cell_type": "code",
      "source": [
        "!python3 -m pip install ipykernel\n",
        "!python3 -m ipykernel install --user"
      ],
      "metadata": {
        "colab": {
          "base_uri": "https://localhost:8080/"
        },
        "id": "nO2C7ajYSKlr",
        "outputId": "dc0e9090-4ce1-432f-97ae-b94a557c5ee8"
      },
      "execution_count": 3,
      "outputs": [
        {
          "output_type": "stream",
          "name": "stdout",
          "text": [
            "Requirement already satisfied: ipykernel in /usr/local/lib/python3.10/dist-packages (5.5.6)\n",
            "Requirement already satisfied: ipython-genutils in /usr/local/lib/python3.10/dist-packages (from ipykernel) (0.2.0)\n",
            "Requirement already satisfied: ipython>=5.0.0 in /usr/local/lib/python3.10/dist-packages (from ipykernel) (7.34.0)\n",
            "Requirement already satisfied: traitlets>=4.1.0 in /usr/local/lib/python3.10/dist-packages (from ipykernel) (5.7.1)\n",
            "Requirement already satisfied: jupyter-client in /usr/local/lib/python3.10/dist-packages (from ipykernel) (6.1.12)\n",
            "Requirement already satisfied: tornado>=4.2 in /usr/local/lib/python3.10/dist-packages (from ipykernel) (6.3.3)\n",
            "Requirement already satisfied: setuptools>=18.5 in /usr/local/lib/python3.10/dist-packages (from ipython>=5.0.0->ipykernel) (67.7.2)\n",
            "Collecting jedi>=0.16 (from ipython>=5.0.0->ipykernel)\n",
            "  Downloading jedi-0.19.1-py2.py3-none-any.whl (1.6 MB)\n",
            "\u001b[2K     \u001b[90m━━━━━━━━━━━━━━━━━━━━━━━━━━━━━━━━━━━━━━━━\u001b[0m \u001b[32m1.6/1.6 MB\u001b[0m \u001b[31m8.5 MB/s\u001b[0m eta \u001b[36m0:00:00\u001b[0m\n",
            "\u001b[?25hRequirement already satisfied: decorator in /usr/local/lib/python3.10/dist-packages (from ipython>=5.0.0->ipykernel) (4.4.2)\n",
            "Requirement already satisfied: pickleshare in /usr/local/lib/python3.10/dist-packages (from ipython>=5.0.0->ipykernel) (0.7.5)\n",
            "Requirement already satisfied: prompt-toolkit!=3.0.0,!=3.0.1,<3.1.0,>=2.0.0 in /usr/local/lib/python3.10/dist-packages (from ipython>=5.0.0->ipykernel) (3.0.47)\n",
            "Requirement already satisfied: pygments in /usr/local/lib/python3.10/dist-packages (from ipython>=5.0.0->ipykernel) (2.16.1)\n",
            "Requirement already satisfied: backcall in /usr/local/lib/python3.10/dist-packages (from ipython>=5.0.0->ipykernel) (0.2.0)\n",
            "Requirement already satisfied: matplotlib-inline in /usr/local/lib/python3.10/dist-packages (from ipython>=5.0.0->ipykernel) (0.1.7)\n",
            "Requirement already satisfied: pexpect>4.3 in /usr/local/lib/python3.10/dist-packages (from ipython>=5.0.0->ipykernel) (4.9.0)\n",
            "Requirement already satisfied: jupyter-core>=4.6.0 in /usr/local/lib/python3.10/dist-packages (from jupyter-client->ipykernel) (5.7.2)\n",
            "Requirement already satisfied: pyzmq>=13 in /usr/local/lib/python3.10/dist-packages (from jupyter-client->ipykernel) (24.0.1)\n",
            "Requirement already satisfied: python-dateutil>=2.1 in /usr/local/lib/python3.10/dist-packages (from jupyter-client->ipykernel) (2.8.2)\n",
            "Requirement already satisfied: parso<0.9.0,>=0.8.3 in /usr/local/lib/python3.10/dist-packages (from jedi>=0.16->ipython>=5.0.0->ipykernel) (0.8.4)\n",
            "Requirement already satisfied: platformdirs>=2.5 in /usr/local/lib/python3.10/dist-packages (from jupyter-core>=4.6.0->jupyter-client->ipykernel) (4.2.2)\n",
            "Requirement already satisfied: ptyprocess>=0.5 in /usr/local/lib/python3.10/dist-packages (from pexpect>4.3->ipython>=5.0.0->ipykernel) (0.7.0)\n",
            "Requirement already satisfied: wcwidth in /usr/local/lib/python3.10/dist-packages (from prompt-toolkit!=3.0.0,!=3.0.1,<3.1.0,>=2.0.0->ipython>=5.0.0->ipykernel) (0.2.13)\n",
            "Requirement already satisfied: six>=1.5 in /usr/local/lib/python3.10/dist-packages (from python-dateutil>=2.1->jupyter-client->ipykernel) (1.16.0)\n",
            "Installing collected packages: jedi\n",
            "Successfully installed jedi-0.19.1\n",
            "Installed kernelspec python3 in /root/.local/share/jupyter/kernels/python3\n"
          ]
        }
      ]
    }
  ]
}