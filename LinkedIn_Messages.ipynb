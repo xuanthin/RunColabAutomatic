{
  "nbformat": 4,
  "nbformat_minor": 0,
  "metadata": {
    "colab": {
      "provenance": [],
      "include_colab_link": true
    },
    "kernelspec": {
      "name": "python3",
      "display_name": "Python 3"
    },
    "language_info": {
      "name": "python"
    }
  },
  "cells": [
    {
      "cell_type": "markdown",
      "metadata": {
        "id": "view-in-github",
        "colab_type": "text"
      },
      "source": [
        "<a href=\"https://colab.research.google.com/github/xuanthin/RunColabAutomatic/blob/main/LinkedIn_Messages.ipynb\" target=\"_parent\"><img src=\"https://colab.research.google.com/assets/colab-badge.svg\" alt=\"Open In Colab\"/></a>"
      ]
    },
    {
      "cell_type": "code",
      "execution_count": null,
      "metadata": {
        "id": "ef_aqD7Ojl82"
      },
      "outputs": [],
      "source": [
        "def send_linkedin(browser, url, email, subject, message, file, min_delay):\n",
        "    browser.get(url)\n",
        "    time.sleep(random.uniform(min_delay, min_delay + 3))\n",
        "\n",
        "    #Check if connected\n",
        "    try:\n",
        "        browser.find_element_by_xpath('//*[text()=\"Remove Connection\"]')\n",
        "    except:\n",
        "        raise Exception('Contact is not connected.')\n",
        "\n",
        "    #Customize message\n",
        "    try:\n",
        "        panel_left = browser.find_element_by_xpath('//div[contains(@class, \"pv-text-details__left-panel\")]').text\n",
        "        name = panel_left.split('\\n')[0]\n",
        "    except:\n",
        "        name = ''\n",
        "        pass\n",
        "\n",
        "    subject = subject.replace('@subject', name)\n",
        "    message = message.replace('@name', name)\n",
        "\t# thêm code ở chổ này\n",
        "    elements=browser.find_elements_by_xpath('//button[contains(@aria-label,\"Message\")]')\n",
        "    button_message= elements[1]\n",
        "    button_message.click()\n",
        "    try:\n",
        "        elementID = browser.find_element_by_xpath('//a[contains(@class, \"app-aware-link\") and contains(@class,\"artdeco-button\") and contains(@class,\"artdeco-button--premium\")]')\n",
        "\n",
        "        if elementID.get_property('href') != 'https://www.linkedin.com/premium/my-premium/':\n",
        "            browser.get(elementID.get_property('href'))\n",
        "            time.sleep(2)\n",
        "\n",
        "            #Attach images\n",
        "            try:\n",
        "                elementID = browser.find_element_by_xpath(\n",
        "                    '//input[@accept=\"image/*,.ai,.psd,.pdf,.doc,.docx,.csv,.zip,.rar,.ppt,.pptx,.pps,.ppsx,'+\n",
        "                    '.odt,.rtf,.xls,.xlsx,.txt,.pub,.html,.7z,.eml\"]'\n",
        "                )\n",
        "                for f in file:\n",
        "                    elementID.send_keys(util.path_media + f)\n",
        "                    time.sleep(2)\n",
        "            except:\n",
        "                pass\n",
        "\n",
        "            try:\n",
        "                browser.find_element_by_xpath('//input[@name=\"subject\"]').send_keys(subject)\n",
        "            except:\n",
        "                pass\n",
        "\n",
        "            browser.find_element_by_xpath('//div[@role=\"textbox\" and @aria-multiline=\"true\"]').click()\n",
        "            # msg-form__contenteditable t-14 t-black--light t-normal flex-grow-1 full-height notranslate\n",
        "\n",
        "\n",
        "            actions = ActionChains(browser)\n",
        "            for part in message.split('\\n'):\n",
        "                actions.send_keys(part)\n",
        "                actions.key_down(Keys.SHIFT).key_down(Keys.ENTER).key_up(Keys.SHIFT).key_up(Keys.ENTER)\n",
        "                time.sleep(2)\n",
        "\n",
        "            actions.perform()\n",
        "            time.sleep(2)\n",
        "\n",
        "            send_button = browser.find_element_by_class_name('msg-form__send-button')\n",
        "\n",
        "            clickable = False\n",
        "            time_wait = time.time()\n",
        "            while not clickable and time.time() < time_wait + implicit_time_default:\n",
        "                try:\n",
        "                    cursor = send_button.value_of_css_property('cursor')\n",
        "                    if cursor != 'not-allowed':\n",
        "                        clickable = True\n",
        "                    break\n",
        "                except:\n",
        "                    continue\n",
        "\n",
        "            if clickable:\n",
        "                send_button.click()\n",
        "\n",
        "    except:\n",
        "        pass\n",
        "\n",
        "\n",
        "    #If Follow is required\n",
        "#        browser.find_element_by_class_name('pv-s-profile-actions--follow').click()\n",
        "\n",
        "    # Connect\n",
        "    # checkSentButton = browser.find_element_by_class_name('ml1')\n",
        "    # if 'artdeco-button--disabled' in checkSentButton.get_attribute('class').split():\n",
        "    #     browser.find_element_by_class_name('artdeco-modal__dismiss').click()\n",
        "    #     browser.find_element_by_class_name('pv-s-profile-actions--message').click()\n",
        "    #     if True == check_exists_class('msg-form__subject'):\n",
        "    #         browser.find_element_by_class_name('msg-form__subject').send_keys(subject)\n",
        "    #     if True == check_exists_class('msg-form__contenteditable'):\n",
        "    #         browser.find_element_by_class_name('msg-form__contenteditable').send_keys(message)\n",
        "    #     if True == check_exists_class('msg-form__send-button'):\n",
        "    #         browser.find_element_by_class_name('msg-form__send-button').click()\n",
        "    # else:\n",
        "    #     checkSentButton.click()\n",
        "\n",
        "    time.sleep(2)\n",
        "    ActionChains(browser).send_keys(Keys.ESCAPE).perform()\n",
        "\n",
        "    return name"
      ]
    },
    {
      "cell_type": "code",
      "source": [
        "!python3 -m pip install ipykernel\n",
        "!python3 -m ipykernel install --user"
      ],
      "metadata": {
        "colab": {
          "base_uri": "https://localhost:8080/"
        },
        "id": "ju84otrdV2aC",
        "outputId": "299bae26-a828-4eaf-c566-87f1d6fb69e3"
      },
      "execution_count": 1,
      "outputs": [
        {
          "output_type": "stream",
          "name": "stdout",
          "text": [
            "Requirement already satisfied: ipykernel in /usr/local/lib/python3.10/dist-packages (5.5.6)\n",
            "Requirement already satisfied: ipython-genutils in /usr/local/lib/python3.10/dist-packages (from ipykernel) (0.2.0)\n",
            "Requirement already satisfied: ipython>=5.0.0 in /usr/local/lib/python3.10/dist-packages (from ipykernel) (7.34.0)\n",
            "Requirement already satisfied: traitlets>=4.1.0 in /usr/local/lib/python3.10/dist-packages (from ipykernel) (5.7.1)\n",
            "Requirement already satisfied: jupyter-client in /usr/local/lib/python3.10/dist-packages (from ipykernel) (6.1.12)\n",
            "Requirement already satisfied: tornado>=4.2 in /usr/local/lib/python3.10/dist-packages (from ipykernel) (6.3.3)\n",
            "Requirement already satisfied: setuptools>=18.5 in /usr/local/lib/python3.10/dist-packages (from ipython>=5.0.0->ipykernel) (67.7.2)\n",
            "Collecting jedi>=0.16 (from ipython>=5.0.0->ipykernel)\n",
            "  Downloading jedi-0.19.1-py2.py3-none-any.whl (1.6 MB)\n",
            "\u001b[2K     \u001b[90m━━━━━━━━━━━━━━━━━━━━━━━━━━━━━━━━━━━━━━━━\u001b[0m \u001b[32m1.6/1.6 MB\u001b[0m \u001b[31m4.5 MB/s\u001b[0m eta \u001b[36m0:00:00\u001b[0m\n",
            "\u001b[?25hRequirement already satisfied: decorator in /usr/local/lib/python3.10/dist-packages (from ipython>=5.0.0->ipykernel) (4.4.2)\n",
            "Requirement already satisfied: pickleshare in /usr/local/lib/python3.10/dist-packages (from ipython>=5.0.0->ipykernel) (0.7.5)\n",
            "Requirement already satisfied: prompt-toolkit!=3.0.0,!=3.0.1,<3.1.0,>=2.0.0 in /usr/local/lib/python3.10/dist-packages (from ipython>=5.0.0->ipykernel) (3.0.47)\n",
            "Requirement already satisfied: pygments in /usr/local/lib/python3.10/dist-packages (from ipython>=5.0.0->ipykernel) (2.16.1)\n",
            "Requirement already satisfied: backcall in /usr/local/lib/python3.10/dist-packages (from ipython>=5.0.0->ipykernel) (0.2.0)\n",
            "Requirement already satisfied: matplotlib-inline in /usr/local/lib/python3.10/dist-packages (from ipython>=5.0.0->ipykernel) (0.1.7)\n",
            "Requirement already satisfied: pexpect>4.3 in /usr/local/lib/python3.10/dist-packages (from ipython>=5.0.0->ipykernel) (4.9.0)\n",
            "Requirement already satisfied: jupyter-core>=4.6.0 in /usr/local/lib/python3.10/dist-packages (from jupyter-client->ipykernel) (5.7.2)\n",
            "Requirement already satisfied: pyzmq>=13 in /usr/local/lib/python3.10/dist-packages (from jupyter-client->ipykernel) (24.0.1)\n",
            "Requirement already satisfied: python-dateutil>=2.1 in /usr/local/lib/python3.10/dist-packages (from jupyter-client->ipykernel) (2.8.2)\n",
            "Requirement already satisfied: parso<0.9.0,>=0.8.3 in /usr/local/lib/python3.10/dist-packages (from jedi>=0.16->ipython>=5.0.0->ipykernel) (0.8.4)\n",
            "Requirement already satisfied: platformdirs>=2.5 in /usr/local/lib/python3.10/dist-packages (from jupyter-core>=4.6.0->jupyter-client->ipykernel) (4.2.2)\n",
            "Requirement already satisfied: ptyprocess>=0.5 in /usr/local/lib/python3.10/dist-packages (from pexpect>4.3->ipython>=5.0.0->ipykernel) (0.7.0)\n",
            "Requirement already satisfied: wcwidth in /usr/local/lib/python3.10/dist-packages (from prompt-toolkit!=3.0.0,!=3.0.1,<3.1.0,>=2.0.0->ipython>=5.0.0->ipykernel) (0.2.13)\n",
            "Requirement already satisfied: six>=1.5 in /usr/local/lib/python3.10/dist-packages (from python-dateutil>=2.1->jupyter-client->ipykernel) (1.16.0)\n",
            "Installing collected packages: jedi\n",
            "Successfully installed jedi-0.19.1\n",
            "Installed kernelspec python3 in /root/.local/share/jupyter/kernels/python3\n"
          ]
        }
      ]
    }
  ]
}