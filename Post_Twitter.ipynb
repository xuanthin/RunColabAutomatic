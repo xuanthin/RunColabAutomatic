{
  "nbformat": 4,
  "nbformat_minor": 0,
  "metadata": {
    "colab": {
      "provenance": [],
      "authorship_tag": "ABX9TyMPIhjYgxwvfYtQzXRwGVDW",
      "include_colab_link": true
    },
    "kernelspec": {
      "name": "python3",
      "display_name": "Python 3"
    },
    "language_info": {
      "name": "python"
    }
  },
  "cells": [
    {
      "cell_type": "markdown",
      "metadata": {
        "id": "view-in-github",
        "colab_type": "text"
      },
      "source": [
        "<a href=\"https://colab.research.google.com/github/xuanthin/RunColabAutomatic/blob/main/Post_Twitter.ipynb\" target=\"_parent\"><img src=\"https://colab.research.google.com/assets/colab-badge.svg\" alt=\"Open In Colab\"/></a>"
      ]
    },
    {
      "cell_type": "code",
      "execution_count": null,
      "metadata": {
        "id": "yhokjiMzOgf9"
      },
      "outputs": [],
      "source": [
        "# Install required libraries\n",
        "!pip install tweepy\n",
        "\n",
        "# Import necessary libraries\n",
        "import tweepy\n",
        "\n",
        "# Set up Twitter API credentials\n",
        "consumer_key = 'your_consumer_key'\n",
        "consumer_secret = 'your_consumer_secret'\n",
        "access_token = 'your_access_token'\n",
        "access_token_secret = 'your_access_token_secret'\n",
        "\n",
        "# Authenticate with Twitter API\n",
        "auth = tweepy.OAuthHandler(consumer_key, consumer_secret)\n",
        "auth.set_access_token(access_token, access_token_secret)\n",
        "api = tweepy.API(auth)\n",
        "\n",
        "# Function to post a tweet\n",
        "def post_tweet(tweet_text):\n",
        "    try:\n",
        "        api.update_status(tweet_text)\n",
        "        print(\"Tweet posted successfully!\")\n",
        "    except tweepy.TweepyException as e:\n",
        "        print(f\"Error posting tweet: {e}\")\n",
        "\n",
        "# Example usage\n",
        "tweet_text = \"This is a test tweet posted from Colab!\"\n",
        "post_tweet(tweet_text)"
      ]
    }
  ]
}